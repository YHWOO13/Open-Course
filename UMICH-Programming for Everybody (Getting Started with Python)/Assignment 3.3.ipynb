{
 "cells": [
  {
   "cell_type": "code",
   "execution_count": 8,
   "metadata": {},
   "outputs": [
    {
     "name": "stdout",
     "output_type": "stream",
     "text": [
      "What is your socre?: 0.67\n",
      "D\n"
     ]
    }
   ],
   "source": [
    "score=float(input('What is your socre?: '))\n",
    "\n",
    "if 1>score>=0.9:\n",
    "    print('A')\n",
    "elif 0.8<=score<0.9:\n",
    "    print('B')\n",
    "elif 0.7<=score<0.8:\n",
    "    print('C')\n",
    "elif 0.6<=score<0.7:\n",
    "    print('D')\n",
    "elif score<0.6:\n",
    "    print('F')\n",
    "else:\n",
    "    print('ERROR')\n"
   ]
  }
 ],
 "metadata": {
  "kernelspec": {
   "display_name": "Python 3",
   "language": "python",
   "name": "python3"
  },
  "language_info": {
   "codemirror_mode": {
    "name": "ipython",
    "version": 3
   },
   "file_extension": ".py",
   "mimetype": "text/x-python",
   "name": "python",
   "nbconvert_exporter": "python",
   "pygments_lexer": "ipython3",
   "version": "3.7.6"
  }
 },
 "nbformat": 4,
 "nbformat_minor": 4
}
