{
 "cells": [
  {
   "cell_type": "code",
   "execution_count": 1,
   "metadata": {},
   "outputs": [],
   "source": [
    "#Q. Write a program to prompt the user for hours and rate per hour using input to compute gross pay\n",
    "#   Pay: normal rate for hours up to 40 and time-and-a-half for the hourly rate for all hours worked over 40hours\n",
    "#   Result= Hours*Pay"
   ]
  },
  {
   "cell_type": "code",
   "execution_count": 7,
   "metadata": {},
   "outputs": [
    {
     "name": "stdout",
     "output_type": "stream",
     "text": [
      "Write hours:45\n",
      "498.75\n"
     ]
    }
   ],
   "source": [
    "Hours=float(input('Write hours:'))\n",
    "if Hours>40:\n",
    "    Result=((Hours-40)*1.5+40)*10.50\n",
    "else:\n",
    "    Result=Hours*10.50\n",
    "\n",
    "print(Result)"
   ]
  },
  {
   "cell_type": "code",
   "execution_count": null,
   "metadata": {},
   "outputs": [],
   "source": []
  }
 ],
 "metadata": {
  "kernelspec": {
   "display_name": "Python 3",
   "language": "python",
   "name": "python3"
  },
  "language_info": {
   "codemirror_mode": {
    "name": "ipython",
    "version": 3
   },
   "file_extension": ".py",
   "mimetype": "text/x-python",
   "name": "python",
   "nbconvert_exporter": "python",
   "pygments_lexer": "ipython3",
   "version": "3.7.6"
  }
 },
 "nbformat": 4,
 "nbformat_minor": 4
}
