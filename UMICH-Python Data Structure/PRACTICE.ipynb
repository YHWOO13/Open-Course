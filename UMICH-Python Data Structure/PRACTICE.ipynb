{
 "cells": [
  {
   "cell_type": "code",
   "execution_count": 5,
   "metadata": {},
   "outputs": [
    {
     "name": "stdout",
     "output_type": "stream",
     "text": [
      "Enter file:mbox-short.txt\n",
      "cwen@iupui.edu 5\n"
     ]
    }
   ],
   "source": [
    "name = input(\"Enter file:\")\n",
    "if len(name) < 1 : name = \"mbox-short.txt\"\n",
    "handle = open(name)\n",
    "\n",
    "dic=dict()\n",
    "bigcount=None\n",
    "bigemail=None\n",
    "\n",
    "for lines in handle:\n",
    "    if not lines.startswith(\"From: \"):\n",
    "        continue\n",
    "    line=lines.rstrip()\n",
    "    emails=line.split()\n",
    "    for email in emails:\n",
    "        dic[email]=dic.get(email,0)+1\n",
    "print(emails[1],dic[email])\n",
    "    \n",
    "  #  for emails,count in dic.items():\n",
    "   #     if bigcount is None or count> bigcount:\n",
    "    #        bigemail=emails\n",
    "     #       bigcount=count\n",
    "        \n",
    "#print(bigemail,bigcount)"
   ]
  },
  {
   "cell_type": "code",
   "execution_count": 298,
   "metadata": {},
   "outputs": [
    {
     "name": "stdout",
     "output_type": "stream",
     "text": [
      "04 3\n",
      "06 1\n",
      "07 1\n",
      "09 2\n",
      "10 3\n",
      "11 6\n",
      "14 1\n",
      "15 2\n",
      "16 4\n",
      "17 2\n",
      "18 1\n",
      "19 1\n"
     ]
    }
   ],
   "source": [
    "#name = input(\"Enter file:\")\n",
    "#if len(name) < 1 : name = \"mbox-short.txt\"\n",
    "name = \"mbox-short.txt\"\n",
    "handle = open(name)\n",
    "di=dict()\n",
    "\n",
    "for time in handle:\n",
    "    if not time.startswith(\"From \"):\n",
    "        continue\n",
    "        \n",
    "    times=time.split()\n",
    "    ttime=times[5:6]\n",
    "    \n",
    "    if ttime == []:\n",
    "        pass\n",
    "    else:\n",
    "        tttime=ttime[0][0:2]\n",
    "        \n",
    "    \n",
    "    if tttime in di:\n",
    "        di[tttime] += 1\n",
    "    else:\n",
    "        di[tttime] = 1\n",
    "\n",
    "sdi = sorted(di.items())  \n",
    "\n",
    "for i in sdi:\n",
    "    print(i[0],i[1])"
   ]
  },
  {
   "cell_type": "code",
   "execution_count": 293,
   "metadata": {},
   "outputs": [
    {
     "data": {
      "text/plain": [
       "[('04', 3),\n",
       " ('06', 1),\n",
       " ('07', 1),\n",
       " ('09', 2),\n",
       " ('10', 3),\n",
       " ('11', 6),\n",
       " ('14', 1),\n",
       " ('15', 2),\n",
       " ('16', 4),\n",
       " ('17', 2),\n",
       " ('18', 1),\n",
       " ('19', 1)]"
      ]
     },
     "execution_count": 293,
     "metadata": {},
     "output_type": "execute_result"
    }
   ],
   "source": [
    "sdi"
   ]
  },
  {
   "cell_type": "code",
   "execution_count": 82,
   "metadata": {},
   "outputs": [],
   "source": [
    "import pandas as pd\n",
    "import numpy as np\n",
    "import re"
   ]
  },
  {
   "cell_type": "code",
   "execution_count": 26,
   "metadata": {},
   "outputs": [
    {
     "data": {
      "text/html": [
       "<div>\n",
       "<style scoped>\n",
       "    .dataframe tbody tr th:only-of-type {\n",
       "        vertical-align: middle;\n",
       "    }\n",
       "\n",
       "    .dataframe tbody tr th {\n",
       "        vertical-align: top;\n",
       "    }\n",
       "\n",
       "    .dataframe thead th {\n",
       "        text-align: right;\n",
       "    }\n",
       "</style>\n",
       "<table border=\"1\" class=\"dataframe\">\n",
       "  <thead>\n",
       "    <tr style=\"text-align: right;\">\n",
       "      <th></th>\n",
       "      <th>RegionName</th>\n",
       "      <th>State</th>\n",
       "    </tr>\n",
       "  </thead>\n",
       "  <tbody>\n",
       "    <tr>\n",
       "      <th>0</th>\n",
       "      <td>AlabamaAlaskaArizonaArkansasCalifornia and for...</td>\n",
       "      <td>Auburn (Auburn University)</td>\n",
       "    </tr>\n",
       "    <tr>\n",
       "      <th>1</th>\n",
       "      <td>AlabamaAlaskaArizonaArkansasCalifornia and for...</td>\n",
       "      <td>Florence (University of North Alabama)</td>\n",
       "    </tr>\n",
       "    <tr>\n",
       "      <th>2</th>\n",
       "      <td>AlabamaAlaskaArizonaArkansasCalifornia and for...</td>\n",
       "      <td>Jacksonville (Jacksonville State University)</td>\n",
       "    </tr>\n",
       "    <tr>\n",
       "      <th>3</th>\n",
       "      <td>AlabamaAlaskaArizonaArkansasCalifornia and for...</td>\n",
       "      <td>Livingston (University of West Alabama)</td>\n",
       "    </tr>\n",
       "    <tr>\n",
       "      <th>4</th>\n",
       "      <td>AlabamaAlaskaArizonaArkansasCalifornia and for...</td>\n",
       "      <td>Montevallo (University of Montevallo)</td>\n",
       "    </tr>\n",
       "    <tr>\n",
       "      <th>...</th>\n",
       "      <td>...</td>\n",
       "      <td>...</td>\n",
       "    </tr>\n",
       "    <tr>\n",
       "      <th>506</th>\n",
       "      <td>AlabamaAlaskaArizonaArkansasCalifornia and for...</td>\n",
       "      <td>River Falls (University of Wisconsin–River Falls)</td>\n",
       "    </tr>\n",
       "    <tr>\n",
       "      <th>507</th>\n",
       "      <td>AlabamaAlaskaArizonaArkansasCalifornia and for...</td>\n",
       "      <td>Stevens Point (University of Wisconsin–Stevens...</td>\n",
       "    </tr>\n",
       "    <tr>\n",
       "      <th>508</th>\n",
       "      <td>AlabamaAlaskaArizonaArkansasCalifornia and for...</td>\n",
       "      <td>Waukesha (Carroll University)</td>\n",
       "    </tr>\n",
       "    <tr>\n",
       "      <th>509</th>\n",
       "      <td>AlabamaAlaskaArizonaArkansasCalifornia and for...</td>\n",
       "      <td>Whitewater (University of Wisconsin–Whitewater)</td>\n",
       "    </tr>\n",
       "    <tr>\n",
       "      <th>510</th>\n",
       "      <td>AlabamaAlaskaArizonaArkansasCalifornia and for...</td>\n",
       "      <td>Laramie (University of Wyoming)</td>\n",
       "    </tr>\n",
       "  </tbody>\n",
       "</table>\n",
       "<p>511 rows × 2 columns</p>\n",
       "</div>"
      ],
      "text/plain": [
       "                                            RegionName  \\\n",
       "0    AlabamaAlaskaArizonaArkansasCalifornia and for...   \n",
       "1    AlabamaAlaskaArizonaArkansasCalifornia and for...   \n",
       "2    AlabamaAlaskaArizonaArkansasCalifornia and for...   \n",
       "3    AlabamaAlaskaArizonaArkansasCalifornia and for...   \n",
       "4    AlabamaAlaskaArizonaArkansasCalifornia and for...   \n",
       "..                                                 ...   \n",
       "506  AlabamaAlaskaArizonaArkansasCalifornia and for...   \n",
       "507  AlabamaAlaskaArizonaArkansasCalifornia and for...   \n",
       "508  AlabamaAlaskaArizonaArkansasCalifornia and for...   \n",
       "509  AlabamaAlaskaArizonaArkansasCalifornia and for...   \n",
       "510  AlabamaAlaskaArizonaArkansasCalifornia and for...   \n",
       "\n",
       "                                                 State  \n",
       "0                           Auburn (Auburn University)  \n",
       "1               Florence (University of North Alabama)  \n",
       "2         Jacksonville (Jacksonville State University)  \n",
       "3              Livingston (University of West Alabama)  \n",
       "4                Montevallo (University of Montevallo)  \n",
       "..                                                 ...  \n",
       "506  River Falls (University of Wisconsin–River Falls)  \n",
       "507  Stevens Point (University of Wisconsin–Stevens...  \n",
       "508                      Waukesha (Carroll University)  \n",
       "509    Whitewater (University of Wisconsin–Whitewater)  \n",
       "510                    Laramie (University of Wyoming)  \n",
       "\n",
       "[511 rows x 2 columns]"
      ]
     },
     "execution_count": 26,
     "metadata": {},
     "output_type": "execute_result"
    }
   ],
   "source": [
    "unilist1=open('C:\\\\Users\\\\syjy0\\\\OneDrive\\\\바탕 화면\\\\전북대_산공\\\\GITHUB\\\\Open-Course\\\\UMICH-Introduction to Data Science in Python/university_towns.txt','r',encoding='utf-8')\n",
    "unilist2=open('C:\\\\Users\\\\syjy0\\\\OneDrive\\\\바탕 화면\\\\전북대_산공\\\\GITHUB\\\\Open-Course\\\\UMICH-Introduction to Data Science in Python/university_towns.txt','r',encoding='utf-8')\n",
    "\n",
    "state=[]\n",
    "RegionName=[]\n",
    "\n",
    "\n",
    "line=unilist1.read()\n",
    "lines=unilist2.read()\n",
    "\n",
    "pattern=r\".*\\s\\(.*\\)\"\n",
    "matchedlist=re.findall(pattern,line)\n",
    "\n",
    "\n",
    "line=re.sub(r\"\\[.*\\]\",\"\",line)\n",
    "\n",
    "pattern1=r\"\\[.*\\]\"\n",
    "pattern2=r\".*\\s\\(.*\\)\"\n",
    "pattern3=r\"\\n\"\n",
    "\n",
    "    \n",
    "    \n",
    "\n",
    "lines=re.sub(r\"\\[.*\\]\",\"\",lines)\n",
    "lines=re.sub(r\".*\\s\\(.*\\)\",\"\",lines)\n",
    "lines=re.sub(r\"\\n\",\"\",lines)\n",
    "\n",
    "\n",
    "\n",
    "df=pd.DataFrame(columns={'State','RegionName'})\n",
    "df['State']=matchedlist\n",
    "df['RegionName']=lines\n",
    "df"
   ]
  },
  {
   "cell_type": "code",
   "execution_count": 145,
   "metadata": {},
   "outputs": [
    {
     "ename": "NameError",
     "evalue": "name 'hj' is not defined",
     "output_type": "error",
     "traceback": [
      "\u001b[1;31m---------------------------------------------------------------------------\u001b[0m",
      "\u001b[1;31mNameError\u001b[0m                                 Traceback (most recent call last)",
      "\u001b[1;32m<ipython-input-145-46499de52522>\u001b[0m in \u001b[0;36m<module>\u001b[1;34m\u001b[0m\n\u001b[0;32m     29\u001b[0m \u001b[1;31m#df['Region']=region\u001b[0m\u001b[1;33m\u001b[0m\u001b[1;33m\u001b[0m\u001b[1;33m\u001b[0m\u001b[0m\n\u001b[0;32m     30\u001b[0m \u001b[0mdf\u001b[0m\u001b[1;33m\u001b[0m\u001b[1;33m\u001b[0m\u001b[0m\n\u001b[1;32m---> 31\u001b[1;33m \u001b[0mhj\u001b[0m\u001b[1;33m\u001b[0m\u001b[1;33m\u001b[0m\u001b[0m\n\u001b[0m",
      "\u001b[1;31mNameError\u001b[0m: name 'hj' is not defined"
     ]
    }
   ],
   "source": [
    "state=[]\n",
    "region=[]\n",
    "with open('C:\\\\Users\\\\syjy0\\\\OneDrive\\\\바탕 화면\\\\전북대_산공\\\\GITHUB\\\\Open-Course\\\\UMICH-Introduction to Data Science in Python/university_towns.txt','r',encoding='utf-8') as unilist:\n",
    "\n",
    "    a=unilist.readlines()\n",
    "    r=re.compile(r\".*\\s\\(.*\\)\")\n",
    "    \n",
    "    for i in a:\n",
    "        i=re.sub(r\"\\[.*\\]\",\"\",i)\n",
    "        i=re.sub(r\"\\n\",'',i)\n",
    "        match=r.match(i)\n",
    "        if match:\n",
    "            i=re.sub(r\"\\(.*\\)\",\"\",i)\n",
    "            region.append(i)\n",
    "        else:\n",
    "            state.append(i)\n",
    "            \n",
    "\n",
    "            \n",
    "df=pd.DataFrame(columns=('State','Region'))\n",
    "\n",
    "\n",
    "\n",
    "\n",
    "\n",
    "#print(state)\n",
    "#print(region)\n",
    "df['State']=state\n",
    "#df['Region']=region\n",
    "df\n",
    "hj"
   ]
  },
  {
   "cell_type": "code",
   "execution_count": null,
   "metadata": {},
   "outputs": [],
   "source": []
  },
  {
   "cell_type": "code",
   "execution_count": null,
   "metadata": {},
   "outputs": [],
   "source": []
  }
 ],
 "metadata": {
  "kernelspec": {
   "display_name": "Python 3",
   "language": "python",
   "name": "python3"
  },
  "language_info": {
   "codemirror_mode": {
    "name": "ipython",
    "version": 3
   },
   "file_extension": ".py",
   "mimetype": "text/x-python",
   "name": "python",
   "nbconvert_exporter": "python",
   "pygments_lexer": "ipython3",
   "version": "3.7.6"
  }
 },
 "nbformat": 4,
 "nbformat_minor": 4
}
