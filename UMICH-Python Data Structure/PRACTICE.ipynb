{
 "cells": [
  {
   "cell_type": "code",
   "execution_count": 5,
   "metadata": {},
   "outputs": [
    {
     "name": "stdout",
     "output_type": "stream",
     "text": [
      "Enter file:mbox-short.txt\n",
      "cwen@iupui.edu 5\n"
     ]
    }
   ],
   "source": [
    "name = input(\"Enter file:\")\n",
    "if len(name) < 1 : name = \"mbox-short.txt\"\n",
    "handle = open(name)\n",
    "\n",
    "dic=dict()\n",
    "bigcount=None\n",
    "bigemail=None\n",
    "\n",
    "for lines in handle:\n",
    "    if not lines.startswith(\"From: \"):\n",
    "        continue\n",
    "    line=lines.rstrip()\n",
    "    emails=line.split()\n",
    "    for email in emails:\n",
    "        dic[email]=dic.get(email,0)+1\n",
    "print(emails[1],dic[email])\n",
    "    \n",
    "  #  for emails,count in dic.items():\n",
    "   #     if bigcount is None or count> bigcount:\n",
    "    #        bigemail=emails\n",
    "     #       bigcount=count\n",
    "        \n",
    "#print(bigemail,bigcount)"
   ]
  },
  {
   "cell_type": "code",
   "execution_count": 298,
   "metadata": {},
   "outputs": [
    {
     "name": "stdout",
     "output_type": "stream",
     "text": [
      "04 3\n",
      "06 1\n",
      "07 1\n",
      "09 2\n",
      "10 3\n",
      "11 6\n",
      "14 1\n",
      "15 2\n",
      "16 4\n",
      "17 2\n",
      "18 1\n",
      "19 1\n"
     ]
    }
   ],
   "source": [
    "#name = input(\"Enter file:\")\n",
    "#if len(name) < 1 : name = \"mbox-short.txt\"\n",
    "name = \"mbox-short.txt\"\n",
    "handle = open(name)\n",
    "di=dict()\n",
    "\n",
    "for time in handle:\n",
    "    if not time.startswith(\"From \"):\n",
    "        continue\n",
    "        \n",
    "    times=time.split()\n",
    "    ttime=times[5:6]\n",
    "    \n",
    "    if ttime == []:\n",
    "        pass\n",
    "    else:\n",
    "        tttime=ttime[0][0:2]\n",
    "        \n",
    "    \n",
    "    if tttime in di:\n",
    "        di[tttime] += 1\n",
    "    else:\n",
    "        di[tttime] = 1\n",
    "\n",
    "sdi = sorted(di.items())  \n",
    "\n",
    "for i in sdi:\n",
    "    print(i[0],i[1])"
   ]
  },
  {
   "cell_type": "code",
   "execution_count": 293,
   "metadata": {},
   "outputs": [
    {
     "data": {
      "text/plain": [
       "[('04', 3),\n",
       " ('06', 1),\n",
       " ('07', 1),\n",
       " ('09', 2),\n",
       " ('10', 3),\n",
       " ('11', 6),\n",
       " ('14', 1),\n",
       " ('15', 2),\n",
       " ('16', 4),\n",
       " ('17', 2),\n",
       " ('18', 1),\n",
       " ('19', 1)]"
      ]
     },
     "execution_count": 293,
     "metadata": {},
     "output_type": "execute_result"
    }
   ],
   "source": [
    "sdi"
   ]
  },
  {
   "cell_type": "code",
   "execution_count": null,
   "metadata": {},
   "outputs": [],
   "source": []
  }
 ],
 "metadata": {
  "kernelspec": {
   "display_name": "Python 3",
   "language": "python",
   "name": "python3"
  },
  "language_info": {
   "codemirror_mode": {
    "name": "ipython",
    "version": 3
   },
   "file_extension": ".py",
   "mimetype": "text/x-python",
   "name": "python",
   "nbconvert_exporter": "python",
   "pygments_lexer": "ipython3",
   "version": "3.7.6"
  }
 },
 "nbformat": 4,
 "nbformat_minor": 4
}
