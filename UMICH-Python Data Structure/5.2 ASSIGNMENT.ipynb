{
 "cells": [
  {
   "cell_type": "code",
   "execution_count": 2,
   "metadata": {
    "scrolled": true
   },
   "outputs": [
    {
     "name": "stdout",
     "output_type": "stream",
     "text": [
      "Enter numbers:1\n",
      "Enter numbers:3\n",
      "Enter numbers:5\n",
      "Enter numbers:7\n",
      "Enter numbers:9\n",
      "Enter numbers:done\n",
      "리스트:  ['1', '3', '5', '7', '9']\n",
      "최댓값: 9\n",
      "최솟값 1\n"
     ]
    }
   ],
   "source": [
    "b=list()\n",
    "c=0\n",
    "while True :\n",
    "    a=input('Enter numbers:')\n",
    "    c=c+1\n",
    "    if a=='done':\n",
    "        print('리스트: ',b)\n",
    "        print('최댓값:',max(b))\n",
    "        print('최솟값',min(b))\n",
    "        break\n",
    "    \n",
    "    else:\n",
    "        b.append(a)"
   ]
  },
  {
   "cell_type": "code",
   "execution_count": null,
   "metadata": {},
   "outputs": [],
   "source": []
  }
 ],
 "metadata": {
  "kernelspec": {
   "display_name": "Python 3",
   "language": "python",
   "name": "python3"
  },
  "language_info": {
   "codemirror_mode": {
    "name": "ipython",
    "version": 3
   },
   "file_extension": ".py",
   "mimetype": "text/x-python",
   "name": "python",
   "nbconvert_exporter": "python",
   "pygments_lexer": "ipython3",
   "version": "3.7.6"
  }
 },
 "nbformat": 4,
 "nbformat_minor": 4
}
