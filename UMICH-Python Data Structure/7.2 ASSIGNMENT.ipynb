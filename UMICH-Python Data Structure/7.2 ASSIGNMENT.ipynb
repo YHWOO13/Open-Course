{
 "cells": [
  {
   "cell_type": "code",
   "execution_count": 33,
   "metadata": {},
   "outputs": [
    {
     "name": "stdout",
     "output_type": "stream",
     "text": [
      "0.8475\n",
      "1\n",
      "1.4653\n",
      "2\n",
      "2.1614\n",
      "3\n",
      "2.9179\n",
      "4\n",
      "3.6805\n",
      "5\n",
      "4.4361\n",
      "6\n",
      "5.136299999999999\n",
      "7\n",
      "5.897799999999999\n",
      "8\n",
      "6.6579\n",
      "9\n",
      "7.4184\n",
      "10\n",
      "8.1143\n",
      "11\n",
      "8.8749\n",
      "12\n",
      "9.6308\n",
      "13\n",
      "10.391300000000001\n",
      "14\n",
      "11.084500000000002\n",
      "15\n",
      "11.840300000000003\n",
      "16\n",
      "12.492900000000002\n",
      "17\n",
      "13.187700000000003\n",
      "18\n",
      "13.840500000000002\n",
      "19\n",
      "14.540700000000003\n",
      "20\n",
      "15.296100000000003\n",
      "21\n",
      "15.991700000000003\n",
      "22\n",
      "16.687600000000003\n",
      "23\n",
      "17.443200000000004\n",
      "24\n",
      "18.427800000000005\n",
      "25\n",
      "19.278700000000004\n",
      "26\n",
      "20.269400000000005\n",
      "27\n",
      "Average spam confidence:  0.7507185185185187\n"
     ]
    }
   ],
   "source": [
    "file=open('mbox-short.txt','r',encoding='utf-8')\n",
    "\n",
    "count=0\n",
    "value=0\n",
    "\n",
    "for i in file:\n",
    "    if i.startswith('X-DSPAM-Confidence: '):\n",
    "        i=i.split(':')\n",
    "        i=i[1]\n",
    "        count=count+1\n",
    "        value=value+float(i)\n",
    "        i=i.strip()\n",
    "        print(value)\n",
    "        print(count)\n",
    "    else:\n",
    "        continue\n",
    "average=value/count\n",
    "print('Average spam confidence: ',average)\n"
   ]
  },
  {
   "cell_type": "code",
   "execution_count": null,
   "metadata": {},
   "outputs": [],
   "source": []
  }
 ],
 "metadata": {
  "kernelspec": {
   "display_name": "Python 3",
   "language": "python",
   "name": "python3"
  },
  "language_info": {
   "codemirror_mode": {
    "name": "ipython",
    "version": 3
   },
   "file_extension": ".py",
   "mimetype": "text/x-python",
   "name": "python",
   "nbconvert_exporter": "python",
   "pygments_lexer": "ipython3",
   "version": "3.7.6"
  }
 },
 "nbformat": 4,
 "nbformat_minor": 4
}
