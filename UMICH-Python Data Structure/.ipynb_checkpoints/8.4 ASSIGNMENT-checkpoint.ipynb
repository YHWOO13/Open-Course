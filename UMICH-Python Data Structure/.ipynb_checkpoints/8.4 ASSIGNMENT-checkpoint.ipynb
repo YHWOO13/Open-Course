{
 "cells": [
  {
   "cell_type": "code",
   "execution_count": 81,
   "metadata": {},
   "outputs": [
    {
     "name": "stdout",
     "output_type": "stream",
     "text": [
      "Enter:romeo.txt\n",
      "['Arise', 'But', 'It', 'Juliet', 'Who', 'already', 'and', 'and', 'and', 'breaks', 'east', 'envious', 'fair', 'grief', 'is', 'is', 'is', 'kill', 'light', 'moon', 'pale', 'sick', 'soft', 'sun', 'sun', 'the', 'the', 'the', 'through', 'what', 'window', 'with', 'yonder']\n"
     ]
    }
   ],
   "source": [
    "fname=input('Enter:')\n",
    "f=open(fname)\n",
    "lst=list()\n",
    "new_l=[]\n",
    "for line in f:\n",
    "    \n",
    "    l=line.split()\n",
    "    lst.append(l)\n",
    "#리스트 안의 리스트(이중리스트)를 하나의 리스트로 만드는 법   \n",
    "a=sum(lst,[])\n",
    "a.sort()\n",
    "#여기 위에까지가 일단 리스트 안 중복은되더라도 순서대로 정렬 \n",
    "\n",
    "for q in a:\n",
    "    if q not in new_l:\n",
    "        new_l.append(q)\n",
    "#위 3문장이 순서를 유지하면서 중복된 것 제거        \n",
    "        \n",
    "print(new_l)\n",
    "\n",
    "\n",
    "\n",
    "    "
   ]
  },
  {
   "cell_type": "code",
   "execution_count": null,
   "metadata": {},
   "outputs": [],
   "source": []
  }
 ],
 "metadata": {
  "kernelspec": {
   "display_name": "Python 3",
   "language": "python",
   "name": "python3"
  },
  "language_info": {
   "codemirror_mode": {
    "name": "ipython",
    "version": 3
   },
   "file_extension": ".py",
   "mimetype": "text/x-python",
   "name": "python",
   "nbconvert_exporter": "python",
   "pygments_lexer": "ipython3",
   "version": "3.7.6"
  }
 },
 "nbformat": 4,
 "nbformat_minor": 4
}
