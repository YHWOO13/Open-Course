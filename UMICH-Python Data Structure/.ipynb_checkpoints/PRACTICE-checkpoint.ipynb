{
 "cells": [
  {
   "cell_type": "code",
   "execution_count": 5,
   "metadata": {},
   "outputs": [
    {
     "name": "stdout",
     "output_type": "stream",
     "text": [
      "Enter file:mbox-short.txt\n",
      "cwen@iupui.edu 5\n"
     ]
    }
   ],
   "source": [
    "name = input(\"Enter file:\")\n",
    "if len(name) < 1 : name = \"mbox-short.txt\"\n",
    "handle = open(name)\n",
    "\n",
    "dic=dict()\n",
    "bigcount=None\n",
    "bigemail=None\n",
    "\n",
    "for lines in handle:\n",
    "    if not lines.startswith(\"From: \"):\n",
    "        continue\n",
    "    line=lines.rstrip()\n",
    "    emails=line.split()\n",
    "    for email in emails:\n",
    "        dic[email]=dic.get(email,0)+1\n",
    "print(emails[1],dic[email])\n",
    "    \n",
    "  #  for emails,count in dic.items():\n",
    "   #     if bigcount is None or count> bigcount:\n",
    "    #        bigemail=emails\n",
    "     #       bigcount=count\n",
    "        \n",
    "#print(bigemail,bigcount)"
   ]
  },
  {
   "cell_type": "code",
   "execution_count": 66,
   "metadata": {},
   "outputs": [
    {
     "name": "stdout",
     "output_type": "stream",
     "text": [
      "Enter file:mbox-short.txt\n",
      "['09:14:16']\n",
      "[]\n",
      "['18:10:48']\n",
      "[]\n",
      "['16:10:39']\n",
      "[]\n",
      "['15:46:24']\n",
      "[]\n",
      "['15:03:18']\n",
      "[]\n",
      "['14:50:18']\n",
      "[]\n",
      "['11:37:30']\n",
      "[]\n",
      "['11:35:08']\n",
      "[]\n",
      "['11:12:37']\n",
      "[]\n",
      "['11:11:52']\n",
      "[]\n",
      "['11:11:03']\n",
      "[]\n",
      "['11:10:22']\n",
      "[]\n",
      "['10:38:42']\n",
      "[]\n",
      "['10:17:43']\n",
      "[]\n",
      "['10:04:14']\n",
      "[]\n",
      "['09:05:31']\n",
      "[]\n",
      "['07:02:32']\n",
      "[]\n",
      "['06:08:27']\n",
      "[]\n",
      "['04:49:08']\n",
      "[]\n",
      "['04:33:44']\n",
      "[]\n",
      "['04:07:34']\n",
      "[]\n",
      "['19:51:21']\n",
      "[]\n",
      "['17:18:23']\n",
      "[]\n",
      "['17:07:00']\n",
      "[]\n",
      "['16:34:40']\n",
      "[]\n",
      "['16:29:07']\n",
      "[]\n",
      "['16:23:48']\n",
      "[]\n"
     ]
    }
   ],
   "source": [
    "name = input(\"Enter file:\")\n",
    "if len(name) < 1 : name = \"mbox-short.txt\"\n",
    "handle = open(name)\n",
    "tmp=list()\n",
    "t=dict()\n",
    "l=list()\n",
    "\n",
    "for time in handle:\n",
    "    if not time.startswith(\"From\"):\n",
    "        continue\n",
    " \n",
    "    #time.rstrip()\n",
    "    times=time.split()\n",
    "    ttime=times[5:6]\n",
    "    \n",
    "    if ttime is not []:\n",
    "         print(times[5:6])\n",
    "   \n",
    "    #ttime=ttime.sort()\n",
    "    #ttimes=times.split()\n",
    "    \n",
    "    #for t in times:\n",
    "    # t[t]= t.get(t,0)+1\n",
    "   \n",
    "   "
   ]
  },
  {
   "cell_type": "code",
   "execution_count": null,
   "metadata": {},
   "outputs": [],
   "source": []
  }
 ],
 "metadata": {
  "kernelspec": {
   "display_name": "Python 3",
   "language": "python",
   "name": "python3"
  },
  "language_info": {
   "codemirror_mode": {
    "name": "ipython",
    "version": 3
   },
   "file_extension": ".py",
   "mimetype": "text/x-python",
   "name": "python",
   "nbconvert_exporter": "python",
   "pygments_lexer": "ipython3",
   "version": "3.7.6"
  }
 },
 "nbformat": 4,
 "nbformat_minor": 4
}
