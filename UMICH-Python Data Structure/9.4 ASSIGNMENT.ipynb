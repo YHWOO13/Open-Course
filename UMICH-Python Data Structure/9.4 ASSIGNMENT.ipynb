{
 "cells": [
  {
   "cell_type": "code",
   "execution_count": null,
   "metadata": {},
   "outputs": [],
   "source": [
    "name = input(\"Enter file:\")\n",
    "if len(name) < 1 : name = \"mbox-short.txt\"\n",
    "handle = open(name)\n",
    "\n",
    "dic=dict()\n",
    "bigcount=None\n",
    "bigemail=None\n",
    "\n",
    "for lines in handle:\n",
    "    if not lines.startswith(\"From: \"):\n",
    "        continue\n",
    "    line=lines.rstrip()\n",
    "    emails=line.split()\n",
    "    for email in emails:\n",
    "        dic[email]=dic.get(email,0)+1\n",
    "print(emails[1],dic[email])\n",
    "    \n",
    "#    for emails,count in dic.items():\n",
    "#        if bigcount is None or count> bigcount:\n",
    "#            bigemail=emails\n",
    "#            bigcount=count\n",
    "        \n",
    "#print(bigemail,bigcount)"
   ]
  },
  {
   "cell_type": "code",
   "execution_count": null,
   "metadata": {},
   "outputs": [],
   "source": []
  }
 ],
 "metadata": {
  "kernelspec": {
   "display_name": "Python 3",
   "language": "python",
   "name": "python3"
  },
  "language_info": {
   "codemirror_mode": {
    "name": "ipython",
    "version": 3
   },
   "file_extension": ".py",
   "mimetype": "text/x-python",
   "name": "python",
   "nbconvert_exporter": "python",
   "pygments_lexer": "ipython3",
   "version": "3.7.6"
  }
 },
 "nbformat": 4,
 "nbformat_minor": 4
}
