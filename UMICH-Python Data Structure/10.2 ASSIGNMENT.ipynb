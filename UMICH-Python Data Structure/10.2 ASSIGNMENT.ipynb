{
 "cells": [
  {
   "cell_type": "code",
   "execution_count": 3,
   "metadata": {},
   "outputs": [
    {
     "name": "stdout",
     "output_type": "stream",
     "text": [
      "Enter file:mbox-short.txt\n",
      "04 3\n",
      "06 1\n",
      "07 1\n",
      "09 2\n",
      "10 3\n",
      "11 6\n",
      "14 1\n",
      "15 2\n",
      "16 4\n",
      "17 2\n",
      "18 1\n",
      "19 1\n"
     ]
    }
   ],
   "source": [
    "name = input(\"Enter file:\")\n",
    "if len(name) < 1 : name = \"mbox-short.txt\"\n",
    "handle=open(name)\n",
    "di=dict()\n",
    "\n",
    "for time in handle:\n",
    "    if not time.startswith(\"From \"):\n",
    "        continue\n",
    "        \n",
    "    times=time.split()\n",
    "    ttime=times[5:6]\n",
    "    \n",
    "    if ttime == []:\n",
    "        pass\n",
    "    else:\n",
    "        tttime=ttime[0][0:2]\n",
    "        \n",
    "    \n",
    "    if tttime in di:\n",
    "        di[tttime] += 1\n",
    "    else:\n",
    "        di[tttime] = 1\n",
    "\n",
    "sdi = sorted(di.items())  \n",
    "\n",
    "for i in sdi:\n",
    "    print(i[0],i[1])"
   ]
  },
  {
   "cell_type": "code",
   "execution_count": null,
   "metadata": {},
   "outputs": [],
   "source": []
  }
 ],
 "metadata": {
  "kernelspec": {
   "display_name": "Python 3",
   "language": "python",
   "name": "python3"
  }
 },
 "nbformat": 4,
 "nbformat_minor": 4
}
