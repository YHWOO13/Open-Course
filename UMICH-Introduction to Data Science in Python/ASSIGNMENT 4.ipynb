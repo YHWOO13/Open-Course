{
 "cells": [
  {
   "cell_type": "code",
   "execution_count": 1,
   "metadata": {},
   "outputs": [],
   "source": [
    "# Use this dictionary to map state names to two letter acronyms\n",
    "states = {'OH': 'Ohio', 'KY': 'Kentucky', 'AS': 'American Samoa', 'NV': 'Nevada', \n",
    "          'WY': 'Wyoming', 'NA': 'National', 'AL': 'Alabama', 'MD': 'Maryland', \n",
    "          'AK': 'Alaska', 'UT': 'Utah', 'OR': 'Oregon', \n",
    "          'MT': 'Montana', 'IL': 'Illinois', 'TN': 'Tennessee', \n",
    "          'DC': 'District of Columbia', 'VT': 'Vermont', \n",
    "          'ID': 'Idaho', 'AR': 'Arkansas', 'ME': 'Maine', \n",
    "          'WA': 'Washington', 'HI': 'Hawaii', 'WI': 'Wisconsin', \n",
    "          'MI': 'Michigan', 'IN': 'Indiana', 'NJ': 'New Jersey', \n",
    "          'AZ': 'Arizona', 'GU': 'Guam', 'MS': 'Mississippi', \n",
    "          'PR': 'Puerto Rico', 'NC': 'North Carolina', 'TX': 'Texas', \n",
    "          'SD': 'South Dakota', 'MP': 'Northern Mariana Islands', \n",
    "          'IA': 'Iowa', 'MO': 'Missouri', 'CT': 'Connecticut', 'WV': 'West Virginia', \n",
    "          'SC': 'South Carolina', 'LA': 'Louisiana', 'KS': 'Kansas', 'NY': 'New York', \n",
    "          'NE': 'Nebraska', 'OK': 'Oklahoma', 'FL': 'Florida', 'CA': 'California', \n",
    "          'CO': 'Colorado', 'PA': 'Pennsylvania', 'DE': 'Delaware', 'NM': 'New Mexico', 'RI': 'Rhode Island', 'MN': 'Minnesota', 'VI': 'Virgin Islands', 'NH': 'New Hampshire', 'MA': 'Massachusetts', 'GA': 'Georgia', 'ND': 'North Dakota', 'VA': 'Virginia'}"
   ]
  },
  {
   "cell_type": "code",
   "execution_count": 2,
   "metadata": {},
   "outputs": [],
   "source": [
    "import pandas as pd\n",
    "import numpy as np\n",
    "import re\n",
    "from scipy.stats import ttest_ind"
   ]
  },
  {
   "cell_type": "code",
   "execution_count": 3,
   "metadata": {
    "scrolled": false
   },
   "outputs": [
    {
     "data": {
      "text/html": [
       "<div>\n",
       "<style scoped>\n",
       "    .dataframe tbody tr th:only-of-type {\n",
       "        vertical-align: middle;\n",
       "    }\n",
       "\n",
       "    .dataframe tbody tr th {\n",
       "        vertical-align: top;\n",
       "    }\n",
       "\n",
       "    .dataframe thead th {\n",
       "        text-align: right;\n",
       "    }\n",
       "</style>\n",
       "<table border=\"1\" class=\"dataframe\">\n",
       "  <thead>\n",
       "    <tr style=\"text-align: right;\">\n",
       "      <th></th>\n",
       "      <th>State</th>\n",
       "      <th>Region</th>\n",
       "    </tr>\n",
       "  </thead>\n",
       "  <tbody>\n",
       "    <tr>\n",
       "      <th>0</th>\n",
       "      <td>Alabama</td>\n",
       "      <td>Auburn</td>\n",
       "    </tr>\n",
       "    <tr>\n",
       "      <th>1</th>\n",
       "      <td>Alabama</td>\n",
       "      <td>Florence</td>\n",
       "    </tr>\n",
       "    <tr>\n",
       "      <th>2</th>\n",
       "      <td>Alabama</td>\n",
       "      <td>Jacksonville</td>\n",
       "    </tr>\n",
       "    <tr>\n",
       "      <th>3</th>\n",
       "      <td>Alabama</td>\n",
       "      <td>Livingston</td>\n",
       "    </tr>\n",
       "    <tr>\n",
       "      <th>4</th>\n",
       "      <td>Alabama</td>\n",
       "      <td>Montevallo</td>\n",
       "    </tr>\n",
       "    <tr>\n",
       "      <th>...</th>\n",
       "      <td>...</td>\n",
       "      <td>...</td>\n",
       "    </tr>\n",
       "    <tr>\n",
       "      <th>506</th>\n",
       "      <td>Wisconsin</td>\n",
       "      <td>River Falls</td>\n",
       "    </tr>\n",
       "    <tr>\n",
       "      <th>507</th>\n",
       "      <td>Wisconsin</td>\n",
       "      <td>Stevens Point</td>\n",
       "    </tr>\n",
       "    <tr>\n",
       "      <th>508</th>\n",
       "      <td>Wisconsin</td>\n",
       "      <td>Waukesha</td>\n",
       "    </tr>\n",
       "    <tr>\n",
       "      <th>509</th>\n",
       "      <td>Wisconsin</td>\n",
       "      <td>Whitewater</td>\n",
       "    </tr>\n",
       "    <tr>\n",
       "      <th>510</th>\n",
       "      <td>Wyoming</td>\n",
       "      <td>Laramie</td>\n",
       "    </tr>\n",
       "  </tbody>\n",
       "</table>\n",
       "<p>511 rows × 2 columns</p>\n",
       "</div>"
      ],
      "text/plain": [
       "         State          Region\n",
       "0      Alabama         Auburn \n",
       "1      Alabama       Florence \n",
       "2      Alabama   Jacksonville \n",
       "3      Alabama     Livingston \n",
       "4      Alabama     Montevallo \n",
       "..         ...             ...\n",
       "506  Wisconsin    River Falls \n",
       "507  Wisconsin  Stevens Point \n",
       "508  Wisconsin       Waukesha \n",
       "509  Wisconsin     Whitewater \n",
       "510    Wyoming        Laramie \n",
       "\n",
       "[511 rows x 2 columns]"
      ]
     },
     "execution_count": 3,
     "metadata": {},
     "output_type": "execute_result"
    }
   ],
   "source": [
    "state=[]\n",
    "region=[]\n",
    "with open('C:\\\\Users\\\\syjy0\\\\OneDrive\\\\바탕 화면\\\\전북대_산공\\\\GITHUB\\\\Open-Course\\\\UMICH-Introduction to Data Science in Python/university_towns.txt','r',encoding='utf-8') as unilist:\n",
    "\n",
    "    a=unilist.readlines()\n",
    "    r=re.compile(r\".*\\s\\(.*\\)\")\n",
    "    \n",
    "    for i in a:\n",
    "        i=re.sub(r\"\\[.*\\]\",\"\",i)\n",
    "        i=re.sub(r\"\\n\",\"\",i)\n",
    "        match=r.match(i)\n",
    "        if match:\n",
    "            i=re.sub(r\"\\(.*\\)\",\"\",i)\n",
    "            region.append(i)\n",
    "            state.append(temp)\n",
    "        else:\n",
    "            temp=i\n",
    "\n",
    "            #print(state)\n",
    "#print(region)\n",
    "    \n",
    "df=pd.DataFrame(columns=('State','Region'))\n",
    "df['State']=state\n",
    "df['Region']=region\n",
    "df"
   ]
  },
  {
   "cell_type": "code",
   "execution_count": 4,
   "metadata": {},
   "outputs": [],
   "source": [
    "#Q2. get_recession_start"
   ]
  },
  {
   "cell_type": "code",
   "execution_count": 5,
   "metadata": {},
   "outputs": [
    {
     "data": {
      "text/html": [
       "<div>\n",
       "<style scoped>\n",
       "    .dataframe tbody tr th:only-of-type {\n",
       "        vertical-align: middle;\n",
       "    }\n",
       "\n",
       "    .dataframe tbody tr th {\n",
       "        vertical-align: top;\n",
       "    }\n",
       "\n",
       "    .dataframe thead th {\n",
       "        text-align: right;\n",
       "    }\n",
       "</style>\n",
       "<table border=\"1\" class=\"dataframe\">\n",
       "  <thead>\n",
       "    <tr style=\"text-align: right;\">\n",
       "      <th></th>\n",
       "      <th>GDP in billions of current dollars</th>\n",
       "      <th>GDP in billions of chained 2009 dollars</th>\n",
       "    </tr>\n",
       "    <tr>\n",
       "      <th>Quarterly</th>\n",
       "      <th></th>\n",
       "      <th></th>\n",
       "    </tr>\n",
       "  </thead>\n",
       "  <tbody>\n",
       "    <tr>\n",
       "      <th>2000q1</th>\n",
       "      <td>10031</td>\n",
       "      <td>12359.1</td>\n",
       "    </tr>\n",
       "    <tr>\n",
       "      <th>2000q2</th>\n",
       "      <td>10278.3</td>\n",
       "      <td>12592.5</td>\n",
       "    </tr>\n",
       "    <tr>\n",
       "      <th>2000q3</th>\n",
       "      <td>10357.4</td>\n",
       "      <td>12607.7</td>\n",
       "    </tr>\n",
       "    <tr>\n",
       "      <th>2000q4</th>\n",
       "      <td>10472.3</td>\n",
       "      <td>12679.3</td>\n",
       "    </tr>\n",
       "    <tr>\n",
       "      <th>2001q1</th>\n",
       "      <td>10508.1</td>\n",
       "      <td>12643.3</td>\n",
       "    </tr>\n",
       "    <tr>\n",
       "      <th>...</th>\n",
       "      <td>...</td>\n",
       "      <td>...</td>\n",
       "    </tr>\n",
       "    <tr>\n",
       "      <th>2015q2</th>\n",
       "      <td>17998.3</td>\n",
       "      <td>16374.2</td>\n",
       "    </tr>\n",
       "    <tr>\n",
       "      <th>2015q3</th>\n",
       "      <td>18141.9</td>\n",
       "      <td>16454.9</td>\n",
       "    </tr>\n",
       "    <tr>\n",
       "      <th>2015q4</th>\n",
       "      <td>18222.8</td>\n",
       "      <td>16490.7</td>\n",
       "    </tr>\n",
       "    <tr>\n",
       "      <th>2016q1</th>\n",
       "      <td>18281.6</td>\n",
       "      <td>16525</td>\n",
       "    </tr>\n",
       "    <tr>\n",
       "      <th>2016q2</th>\n",
       "      <td>18450.1</td>\n",
       "      <td>16583.1</td>\n",
       "    </tr>\n",
       "  </tbody>\n",
       "</table>\n",
       "<p>66 rows × 2 columns</p>\n",
       "</div>"
      ],
      "text/plain": [
       "          GDP in billions of current dollars  \\\n",
       "Quarterly                                      \n",
       "2000q1                                 10031   \n",
       "2000q2                               10278.3   \n",
       "2000q3                               10357.4   \n",
       "2000q4                               10472.3   \n",
       "2001q1                               10508.1   \n",
       "...                                      ...   \n",
       "2015q2                               17998.3   \n",
       "2015q3                               18141.9   \n",
       "2015q4                               18222.8   \n",
       "2016q1                               18281.6   \n",
       "2016q2                               18450.1   \n",
       "\n",
       "          GDP in billions of chained 2009 dollars  \n",
       "Quarterly                                          \n",
       "2000q1                                    12359.1  \n",
       "2000q2                                    12592.5  \n",
       "2000q3                                    12607.7  \n",
       "2000q4                                    12679.3  \n",
       "2001q1                                    12643.3  \n",
       "...                                           ...  \n",
       "2015q2                                    16374.2  \n",
       "2015q3                                    16454.9  \n",
       "2015q4                                    16490.7  \n",
       "2016q1                                      16525  \n",
       "2016q2                                    16583.1  \n",
       "\n",
       "[66 rows x 2 columns]"
      ]
     },
     "execution_count": 5,
     "metadata": {},
     "output_type": "execute_result"
    }
   ],
   "source": [
    "start=pd.read_excel('C:\\\\Users\\\\syjy0\\\\OneDrive\\\\바탕 화면\\\\전북대_산공\\\\GITHUB\\\\Open-Course\\\\UMICH-Introduction to Data Science in Python/gdplev.xls',skiprows=2)\n",
    "start=start.drop(['Annual','Unnamed: 1','Unnamed: 2','Unnamed: 3','Unnamed: 7'],axis=1)\n",
    "start.rename(columns={'Unnamed: 5':'GDP in billions of current dollars','Unnamed: 6':'GDP in billions of chained 2009 dollars'},inplace=True)\n",
    "start=start.dropna(axis=0)\n",
    "start=start.set_index('Quarterly')\n",
    "start=start.loc['2000q1':]\n",
    "start"
   ]
  },
  {
   "cell_type": "code",
   "execution_count": 6,
   "metadata": {},
   "outputs": [
    {
     "name": "stdout",
     "output_type": "stream",
     "text": [
      "[10031, 10278.3, 10357.4, 10472.3, 10508.1, 10638.4, 10639.5, 10701.3, 10834.4, 10934.8, 11037.1, 11103.8, 11230.1, 11370.7, 11625.1, 11816.8, 11988.4, 12181.4, 12367.7, 12562.2, 12813.7, 12974.1, 13205.4, 13381.6, 13648.9, 13799.8, 13908.5, 14066.4, 14233.2, 14422.3, 14569.7, 14685.3, 14668.4, 14813, 14843, 14549.9, 14383.9, 14340.4, 14384.1, 14566.5, 14681.1, 14888.6, 15057.7, 15230.2, 15238.4, 15460.9, 15587.1, 15785.3, 15973.9, 16121.9, 16227.9, 16297.3, 16475.4, 16541.4, 16749.3, 16999.9, 17025.2, 17285.6, 17569.4, 17692.2, 17783.6, 17998.3, 18141.9, 18222.8, 18281.6, 18450.1]\n"
     ]
    }
   ],
   "source": [
    "l=[]\n",
    "for j, row in start.iterrows():\n",
    " \n",
    "    a=start.at[j,'GDP in billions of current dollars']\n",
    "    l.append(a)\n",
    "print(l)\n"
   ]
  },
  {
   "cell_type": "code",
   "execution_count": 7,
   "metadata": {},
   "outputs": [
    {
     "name": "stdout",
     "output_type": "stream",
     "text": [
      "2008q4\n"
     ]
    },
    {
     "data": {
      "text/plain": [
       "'\\n#리스트3개에서 값 비교/ 롤리 pop()\\n1>2>3\\n1<2>3\\nelse:\\n    pop(0)\\n'"
      ]
     },
     "execution_count": 7,
     "metadata": {},
     "output_type": "execute_result"
    }
   ],
   "source": [
    "temp=0\n",
    "count=0\n",
    "for k in l:\n",
    "    if k>temp:\n",
    "        temp=k\n",
    "        count=count+1        \n",
    "    else:\n",
    "        temp=k\n",
    "        if l[count+1]>temp:\n",
    "            continue\n",
    "        else:\n",
    "            count=count+1\n",
    "            #print(l[count])\n",
    "            break\n",
    "            \n",
    "start=start.reset_index()\n",
    "print(start.loc[count,'Quarterly'])\n",
    "#b=str(b)\n",
    "#start=start.reset_index()\n",
    "#start.loc[count,'Quarterly']\n",
    "\n",
    "'''\n",
    "#리스트3개에서 값 비교/ 롤리 pop()\n",
    "1>2>3\n",
    "1<2>3\n",
    "else:\n",
    "    pop(0)\n",
    "'''\n",
    "        \n"
   ]
  },
  {
   "cell_type": "code",
   "execution_count": 8,
   "metadata": {},
   "outputs": [],
   "source": [
    "#Q3. get_recession_end()"
   ]
  },
  {
   "cell_type": "code",
   "execution_count": 9,
   "metadata": {},
   "outputs": [
    {
     "name": "stdout",
     "output_type": "stream",
     "text": [
      "14340.4\n",
      "2009q2\n"
     ]
    }
   ],
   "source": [
    "temp=0\n",
    "count=0\n",
    "for k in l:\n",
    "    if k>temp:\n",
    "        temp=k\n",
    "        count=count+1        \n",
    "    else:\n",
    "        temp=k\n",
    "        if l[count+1]>temp:\n",
    "            continue\n",
    "        else:\n",
    "            temp=k\n",
    "            count=count+1\n",
    "            if l[count+1]>temp:\n",
    "                print(l[count])\n",
    "                break\n",
    "\n",
    "start=start.reset_index()\n",
    "print(start.loc[count,'Quarterly'])\n"
   ]
  },
  {
   "cell_type": "code",
   "execution_count": 10,
   "metadata": {},
   "outputs": [
    {
     "data": {
      "text/plain": [
       "'\\n#리스트3개에서 값 비교/ 롤리 pop()\\n1>2>3\\n1<2>3\\nelse:\\n    pop(0)\\n'"
      ]
     },
     "execution_count": 10,
     "metadata": {},
     "output_type": "execute_result"
    }
   ],
   "source": [
    "'''            \n",
    "start=start.reset_index()\n",
    "print(start.loc[count,'Quarterly'])\n",
    "#b=str(b)\n",
    "#start=start.reset_index()\n",
    "#start.loc[count,'Quarterly']\n",
    "'''\n",
    "'''\n",
    "#리스트3개에서 값 비교/ 롤리 pop()\n",
    "1>2>3\n",
    "1<2>3\n",
    "else:\n",
    "    pop(0)\n",
    "'''\n",
    "        "
   ]
  },
  {
   "cell_type": "code",
   "execution_count": 11,
   "metadata": {},
   "outputs": [],
   "source": [
    "#Q4. get_recession_bottom()"
   ]
  },
  {
   "cell_type": "code",
   "execution_count": 12,
   "metadata": {},
   "outputs": [
    {
     "name": "stdout",
     "output_type": "stream",
     "text": [
      "[35, 36, 37]\n",
      "37\n",
      "2009q2\n"
     ]
    }
   ],
   "source": [
    "temp=0\n",
    "count=0\n",
    "reccessionlist=[]\n",
    "for k in l:\n",
    "    if k>temp:\n",
    "        temp=k\n",
    "        count=count+1        \n",
    "    else:\n",
    "        temp=k\n",
    "        if l[count+1]>temp:\n",
    "            continue\n",
    "        else:\n",
    "            count=count+1\n",
    "            #print(count)\n",
    "            reccessionlist.append(count)\n",
    "\n",
    "print(reccessionlist)\n",
    "largest=max(reccessionlist)\n",
    "\n",
    "print(largest)\n",
    "\n",
    "start=start.reset_index()\n",
    "print(start.loc[largest,'Quarterly'])\n"
   ]
  },
  {
   "cell_type": "code",
   "execution_count": 13,
   "metadata": {},
   "outputs": [],
   "source": [
    "#Q5. convert_housing_data_to_quarters()"
   ]
  },
  {
   "cell_type": "code",
   "execution_count": null,
   "metadata": {},
   "outputs": [],
   "source": []
  }
 ],
 "metadata": {
  "kernelspec": {
   "display_name": "Python 3",
   "language": "python",
   "name": "python3"
  },
  "language_info": {
   "codemirror_mode": {
    "name": "ipython",
    "version": 3
   },
   "file_extension": ".py",
   "mimetype": "text/x-python",
   "name": "python",
   "nbconvert_exporter": "python",
   "pygments_lexer": "ipython3",
   "version": "3.7.6"
  }
 },
 "nbformat": 4,
 "nbformat_minor": 4
}
