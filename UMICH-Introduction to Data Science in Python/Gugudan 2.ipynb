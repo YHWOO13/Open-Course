{
 "cells": [
  {
   "cell_type": "code",
   "execution_count": 1,
   "metadata": {},
   "outputs": [
    {
     "name": "stdout",
     "output_type": "stream",
     "text": [
      "3 * 1 = 3\n",
      "3 * 2 = 6\n",
      "3 * 3 = 9\n",
      "3 * 4 = 12\n",
      "3 * 5 = 15\n",
      "3 * 6 = 18\n",
      "3 * 7 = 21\n",
      "3 * 8 = 24\n",
      "3 * 9 = 27\n"
     ]
    }
   ],
   "source": [
    "num=1\n",
    "while num<=9:\n",
    "    print('3','*',num,'=',3*num)\n",
    "    num=num+1"
   ]
  },
  {
   "cell_type": "code",
   "execution_count": 4,
   "metadata": {},
   "outputs": [
    {
     "name": "stdout",
     "output_type": "stream",
     "text": [
      "3 * 1 = 3\n",
      "3 * 3 = 9\n",
      "3 * 5 = 15\n",
      "3 * 7 = 21\n",
      "3 * 9 = 27\n"
     ]
    }
   ],
   "source": [
    "num=1\n",
    "while num<=9:\n",
    "    print('3','*',num,'=',3*num)\n",
    "    num=num+2"
   ]
  },
  {
   "cell_type": "code",
   "execution_count": 6,
   "metadata": {},
   "outputs": [
    {
     "name": "stdout",
     "output_type": "stream",
     "text": [
      "원하는 구구단의 숫자를 입력하시오: 7\n",
      "7 * 1 = 7\n",
      "7 * 2 = 77\n",
      "7 * 3 = 777\n",
      "7 * 4 = 7777\n",
      "7 * 5 = 77777\n",
      "7 * 6 = 777777\n",
      "7 * 7 = 7777777\n",
      "7 * 8 = 77777777\n",
      "7 * 9 = 777777777\n"
     ]
    }
   ],
   "source": [
    "a=input('원하는 구구단의 숫자를 입력하시오: ')\n",
    "num=1\n",
    "while num<=9:\n",
    "    print(a,'*',num,'=',a*num)\n",
    "    num=num+1"
   ]
  },
  {
   "cell_type": "code",
   "execution_count": null,
   "metadata": {},
   "outputs": [],
   "source": []
  }
 ],
 "metadata": {
  "kernelspec": {
   "display_name": "Python 3",
   "language": "python",
   "name": "python3"
  },
  "language_info": {
   "codemirror_mode": {
    "name": "ipython",
    "version": 3
   },
   "file_extension": ".py",
   "mimetype": "text/x-python",
   "name": "python",
   "nbconvert_exporter": "python",
   "pygments_lexer": "ipython3",
   "version": "3.7.6"
  }
 },
 "nbformat": 4,
 "nbformat_minor": 4
}
